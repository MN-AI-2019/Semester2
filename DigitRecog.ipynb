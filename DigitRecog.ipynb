{
  "nbformat": 4,
  "nbformat_minor": 0,
  "metadata": {
    "colab": {
      "name": "DigitRecog.ipynb",
      "provenance": [],
      "authorship_tag": "ABX9TyNIYHSdLIl8dolH8rMqr26I",
      "include_colab_link": true
    },
    "kernelspec": {
      "name": "python3",
      "display_name": "Python 3"
    },
    "accelerator": "GPU"
  },
  "cells": [
    {
      "cell_type": "markdown",
      "metadata": {
        "id": "view-in-github",
        "colab_type": "text"
      },
      "source": [
        "<a href=\"https://colab.research.google.com/github/MN-AI-2019/Semester2/blob/master/DigitRecog.ipynb\" target=\"_parent\"><img src=\"https://colab.research.google.com/assets/colab-badge.svg\" alt=\"Open In Colab\"/></a>"
      ]
    },
    {
      "cell_type": "code",
      "metadata": {
        "id": "1M_XYdwEesd2",
        "colab_type": "code",
        "colab": {}
      },
      "source": [
        ""
      ],
      "execution_count": 0,
      "outputs": []
    },
    {
      "cell_type": "markdown",
      "metadata": {
        "id": "407QDnCDrA0_",
        "colab_type": "text"
      },
      "source": [
        "#A simple network to classify handwritten digits\n",
        "![alt text](http://neuralnetworksanddeeplearning.com/images/mnist_100_digits.png)"
      ]
    },
    {
      "cell_type": "markdown",
      "metadata": {
        "id": "fZ3RidFHpWTt",
        "colab_type": "text"
      },
      "source": [
        "![3 layer neural network](http://neuralnetworksanddeeplearning.com/images/tikz12.png)"
      ]
    },
    {
      "cell_type": "code",
      "metadata": {
        "id": "Z3yLdetiq9Qm",
        "colab_type": "code",
        "colab": {
          "base_uri": "https://localhost:8080/",
          "height": 81
        },
        "outputId": "4fc86adf-9162-43e3-a1da-4c430dd856e0"
      },
      "source": [
        "# Importing the libraries\n",
        "import numpy as np\n",
        "import matplotlib.pyplot as plt\n",
        "import random\n",
        "#dataset\n",
        "from keras.datasets import mnist\n",
        "import cv2"
      ],
      "execution_count": 1,
      "outputs": [
        {
          "output_type": "stream",
          "text": [
            "Using TensorFlow backend.\n"
          ],
          "name": "stderr"
        },
        {
          "output_type": "display_data",
          "data": {
            "text/html": [
              "<p style=\"color: red;\">\n",
              "The default version of TensorFlow in Colab will soon switch to TensorFlow 2.x.<br>\n",
              "We recommend you <a href=\"https://www.tensorflow.org/guide/migrate\" target=\"_blank\">upgrade</a> now \n",
              "or ensure your notebook will continue to use TensorFlow 1.x via the <code>%tensorflow_version 1.x</code> magic:\n",
              "<a href=\"https://colab.research.google.com/notebooks/tensorflow_version.ipynb\" target=\"_blank\">more info</a>.</p>\n"
            ],
            "text/plain": [
              "<IPython.core.display.HTML object>"
            ]
          },
          "metadata": {
            "tags": []
          }
        }
      ]
    },
    {
      "cell_type": "markdown",
      "metadata": {
        "id": "4P8yxTPTo_xQ",
        "colab_type": "text"
      },
      "source": [
        "**Class to build the neural network**"
      ]
    },
    {
      "cell_type": "code",
      "metadata": {
        "id": "RMpQjo5hBDTR",
        "colab_type": "code",
        "colab": {}
      },
      "source": [
        "class Network(object):\n",
        "\n",
        "    def __init__(self, sizes):\n",
        "        \"\"\"The list ``sizes`` contains the number of neurons in the\n",
        "        respective layers of the network.  For example, if the list\n",
        "        was [2, 3, 1] then it would be a three-layer network, with the\n",
        "        first layer containing 2 neurons, the second layer 3 neurons,\n",
        "        and the third layer 1 neuron.  The biases and weights for the\n",
        "        network are initialized randomly, using a Gaussian\n",
        "        distribution with mean 0, and variance 1.  Note that the first\n",
        "        layer is assumed to be an input layer, and by convention we\n",
        "        won't set any biases for those neurons, since biases are only\n",
        "        ever used in computing the outputs from later layers.\"\"\"\n",
        "        self.num_layers = len(sizes)\n",
        "        self.sizes = sizes\n",
        "        self.biases = [np.random.randn(y, 1) for y in sizes[1:]]\n",
        "        self.weights = [np.random.randn(y, x)\n",
        "                        for x, y in zip(sizes[:-1], sizes[1:])]\n",
        "\n",
        "    def feedforward(self, a):\n",
        "        \"\"\"Return the output of the network if ``a`` is input.\"\"\"\n",
        "        for b, w in zip(self.biases, self.weights):\n",
        "            a = sigmoid(np.dot(w, a)+b)\n",
        "        return a\n",
        "\n",
        "    def SGD(self, training_data, epochs, mini_batch_size, eta,\n",
        "            test_data=None):\n",
        "        \"\"\"Train the neural network using mini-batch stochastic\n",
        "        gradient descent.  The ``training_data`` is a list of tuples\n",
        "        ``(x, y)`` representing the training inputs and the desired\n",
        "        outputs.  The other non-optional parameters are\n",
        "        self-explanatory.  If ``test_data`` is provided then the\n",
        "        network will be evaluated against the test data after each\n",
        "        epoch, and partial progress printed out.  This is useful for\n",
        "        tracking progress, but slows things down substantially.\"\"\"\n",
        "        if test_data: n_test = len(test_data)\n",
        "        n = len(training_data)\n",
        "        for j in range(epochs):\n",
        "            random.shuffle(training_data)\n",
        "            mini_batches = [training_data[k:k+mini_batch_size] for k in range(0, n, mini_batch_size)]\n",
        "            for mini_batch in mini_batches:\n",
        "                self.update_mini_batch(mini_batch, eta)\n",
        "            if test_data:\n",
        "                print (\"Epoch {0}: {1} / {2}\".format(j, self.evaluate(test_data), n_test))\n",
        "            else:\n",
        "                print (\"Epoch {0} complete\".format(j))\n",
        "\n",
        "    def update_mini_batch(self, mini_batch, eta):\n",
        "        \"\"\"Update the network's weights and biases by applying\n",
        "        gradient descent using backpropagation to a single mini batch.\n",
        "        The ``mini_batch`` is a list of tuples ``(x, y)``, and ``eta``\n",
        "        is the learning rate.\"\"\"\n",
        "        nabla_b = [np.zeros(b.shape) for b in self.biases]\n",
        "        nabla_w = [np.zeros(w.shape) for w in self.weights]\n",
        "        for x, y in mini_batch:\n",
        "            delta_nabla_b, delta_nabla_w = self.backprop(x, y)\n",
        "            nabla_b = [nb+dnb for nb, dnb in zip(nabla_b, delta_nabla_b)]\n",
        "            nabla_w = [nw+dnw for nw, dnw in zip(nabla_w, delta_nabla_w)]\n",
        "        self.weights = [w-(eta/len(mini_batch))*nw\n",
        "                        for w, nw in zip(self.weights, nabla_w)]\n",
        "        self.biases = [b-(eta/len(mini_batch))*nb\n",
        "                       for b, nb in zip(self.biases, nabla_b)]\n",
        "\n",
        "    def backprop(self, x, y):\n",
        "        \"\"\"Return a tuple ``(nabla_b, nabla_w)`` representing the\n",
        "        gradient for the cost function C_x.  ``nabla_b`` and\n",
        "        ``nabla_w`` are layer-by-layer lists of numpy arrays, similar\n",
        "        to ``self.biases`` and ``self.weights``.\"\"\"\n",
        "        nabla_b = [np.zeros(b.shape) for b in self.biases]\n",
        "        nabla_w = [np.zeros(w.shape) for w in self.weights]\n",
        "        # feedforward\n",
        "        activation = x\n",
        "        activations = [x] # list to store all the activations, layer by layer\n",
        "        zs = [] # list to store all the z vectors, layer by layer\n",
        "        for b, w in zip(self.biases, self.weights):\n",
        "            z = np.dot(w, activation)+b\n",
        "            zs.append(z)\n",
        "            activation = sigmoid(z)\n",
        "            activations.append(activation)\n",
        "        # backward pass\n",
        "        delta = (activations[-1]- y) * sigmoid_prime(zs[-1])\n",
        "        nabla_b[-1] = delta\n",
        "        nabla_w[-1] = np.dot(delta, activations[-2].transpose())\n",
        "        \n",
        "        for l in range(2, self.num_layers):\n",
        "            z = zs[-l]\n",
        "            sp = sigmoid_prime(z)\n",
        "            delta = np.dot(self.weights[-l+1].transpose(), delta) * sp\n",
        "            nabla_b[-l] = delta\n",
        "            nabla_w[-l] = np.dot(delta, activations[-l-1].transpose())\n",
        "        return (nabla_b, nabla_w)\n",
        "\n",
        "    def evaluate(self, test_data):\n",
        "        \"\"\"Return the number of test inputs for which the neural\n",
        "        network outputs the correct result. Note that the neural\n",
        "        network's output is assumed to be the index of whichever\n",
        "        neuron in the final layer has the highest activation.\"\"\"\n",
        "        test_results = [(np.argmax(self.feedforward(x)), y)\n",
        "                        for (x, y) in test_data]\n",
        "        return sum(int(x == y) for (x, y) in test_results)\n",
        "    "
      ],
      "execution_count": 0,
      "outputs": []
    },
    {
      "cell_type": "markdown",
      "metadata": {
        "id": "0GVYVU4qvNpd",
        "colab_type": "text"
      },
      "source": [
        "![alt text](https://cdn-images-1.medium.com/max/1200/1*Xu7B5y9gp0iL5ooBj7LtWw.png)"
      ]
    },
    {
      "cell_type": "code",
      "metadata": {
        "colab_type": "code",
        "id": "ctk4b85ic-rS",
        "colab": {}
      },
      "source": [
        "#### Miscellaneous functions\n",
        "def sigmoid(z):\n",
        "    \"\"\"The sigmoid function.\"\"\"\n",
        "    return 1.0/(1.0+np.exp(-z))\n",
        "\n",
        "def sigmoid_prime(z):\n",
        "    \"\"\"Derivative of the sigmoid function.\"\"\"\n",
        "    return sigmoid(z)*(1-sigmoid(z))\n",
        "\n",
        "def vectorized_result(j):\n",
        "    \"\"\"Return a 10-dimensional unit vector with a 1.0 in the jth\n",
        "    position and zeroes elsewhere.  This is used to convert a digit\n",
        "    (0...9) into a corresponding desired output from the neural\n",
        "    network.\"\"\"\n",
        "    e = np.zeros((10, 1))\n",
        "    e[j] = 1.0\n",
        "    return e"
      ],
      "execution_count": 0,
      "outputs": []
    },
    {
      "cell_type": "markdown",
      "metadata": {
        "id": "qYbr6UfBv_dM",
        "colab_type": "text"
      },
      "source": [
        "**Load training data**"
      ]
    },
    {
      "cell_type": "code",
      "metadata": {
        "id": "tFBKCTz0I0RH",
        "colab_type": "code",
        "outputId": "0f7b9111-4959-461b-eff8-0b8486466c47",
        "colab": {
          "base_uri": "https://localhost:8080/",
          "height": 52
        }
      },
      "source": [
        "(x_train, y_train), (x_test, y_test) = mnist.load_data()"
      ],
      "execution_count": 4,
      "outputs": [
        {
          "output_type": "stream",
          "text": [
            "Downloading data from https://s3.amazonaws.com/img-datasets/mnist.npz\n",
            "11493376/11490434 [==============================] - 1s 0us/step\n"
          ],
          "name": "stdout"
        }
      ]
    },
    {
      "cell_type": "code",
      "metadata": {
        "id": "5ssNhczetjFn",
        "colab_type": "code",
        "colab": {
          "base_uri": "https://localhost:8080/",
          "height": 1000
        },
        "outputId": "ebdb7da9-6bfa-4975-ee46-62a3630575a1"
      },
      "source": [
        "print (x_train.shape)\n",
        "print (y_train.shape)\n",
        "print (x_test.shape)\n",
        "print (y_test.shape)\n",
        "print (x_train[10])\n",
        "print (y_train[10])"
      ],
      "execution_count": 7,
      "outputs": [
        {
          "output_type": "stream",
          "text": [
            "(60000, 28, 28)\n",
            "(60000,)\n",
            "(10000, 28, 28)\n",
            "(10000,)\n",
            "[[  0   0   0   0   0   0   0   0   0   0   0   0   0   0   0   0   0   0\n",
            "    0   0   0   0   0   0   0   0   0   0]\n",
            " [  0   0   0   0   0   0   0   0   0   0   0   0   0   0   0   0   0   0\n",
            "    0   0   0   0   0   0   0   0   0   0]\n",
            " [  0   0   0   0   0   0   0   0   0   0   0   0   0   0   0   0   0   0\n",
            "    0   0   0   0   0   0   0   0   0   0]\n",
            " [  0   0   0   0   0   0   0   0   0   0   0   0   0   0   0   0   0   0\n",
            "    0   0   0   0   0   0   0   0   0   0]\n",
            " [  0   0   0   0   0   0   0   0   0   0   0  42 118 219 166 118 118   6\n",
            "    0   0   0   0   0   0   0   0   0   0]\n",
            " [  0   0   0   0   0   0   0   0   0   0 103 242 254 254 254 254 254  66\n",
            "    0   0   0   0   0   0   0   0   0   0]\n",
            " [  0   0   0   0   0   0   0   0   0   0  18 232 254 254 254 254 254 238\n",
            "   70   0   0   0   0   0   0   0   0   0]\n",
            " [  0   0   0   0   0   0   0   0   0   0   0 104 244 254 224 254 254 254\n",
            "  141   0   0   0   0   0   0   0   0   0]\n",
            " [  0   0   0   0   0   0   0   0   0   0   0   0 207 254 210 254 254 254\n",
            "   34   0   0   0   0   0   0   0   0   0]\n",
            " [  0   0   0   0   0   0   0   0   0   0   0   0  84 206 254 254 254 254\n",
            "   41   0   0   0   0   0   0   0   0   0]\n",
            " [  0   0   0   0   0   0   0   0   0   0   0   0   0  24 209 254 254 254\n",
            "  171   0   0   0   0   0   0   0   0   0]\n",
            " [  0   0   0   0   0   0   0   0   0   0   0   0  91 137 253 254 254 254\n",
            "  112   0   0   0   0   0   0   0   0   0]\n",
            " [  0   0   0   0   0   0   0   0   0   0  40 214 250 254 254 254 254 254\n",
            "   34   0   0   0   0   0   0   0   0   0]\n",
            " [  0   0   0   0   0   0   0   0   0   0  81 247 254 254 254 254 254 254\n",
            "  146   0   0   0   0   0   0   0   0   0]\n",
            " [  0   0   0   0   0   0   0   0   0   0   0 110 246 254 254 254 254 254\n",
            "  171   0   0   0   0   0   0   0   0   0]\n",
            " [  0   0   0   0   0   0   0   0   0   0   0   0  73  89  89  93 240 254\n",
            "  171   0   0   0   0   0   0   0   0   0]\n",
            " [  0   0   0   0   0   0   0   0   0   0   0   0   0   0   0   1 128 254\n",
            "  219  31   0   0   0   0   0   0   0   0]\n",
            " [  0   0   0   0   0   0   0   0   0   0   0   0   0   0   0   7 254 254\n",
            "  214  28   0   0   0   0   0   0   0   0]\n",
            " [  0   0   0   0   0   0   0   0   0   0   0   0   0   0   0 138 254 254\n",
            "  116   0   0   0   0   0   0   0   0   0]\n",
            " [  0   0   0   0   0   0  19 177  90   0   0   0   0   0  25 240 254 254\n",
            "   34   0   0   0   0   0   0   0   0   0]\n",
            " [  0   0   0   0   0   0 164 254 215  63  36   0  51  89 206 254 254 139\n",
            "    8   0   0   0   0   0   0   0   0   0]\n",
            " [  0   0   0   0   0   0  57 197 254 254 222 180 241 254 254 253 213  11\n",
            "    0   0   0   0   0   0   0   0   0   0]\n",
            " [  0   0   0   0   0   0   0 140 105 254 254 254 254 254 254 236   0   0\n",
            "    0   0   0   0   0   0   0   0   0   0]\n",
            " [  0   0   0   0   0   0   0   0   7 117 117 165 254 254 239  50   0   0\n",
            "    0   0   0   0   0   0   0   0   0   0]\n",
            " [  0   0   0   0   0   0   0   0   0   0   0   0   0   0   0   0   0   0\n",
            "    0   0   0   0   0   0   0   0   0   0]\n",
            " [  0   0   0   0   0   0   0   0   0   0   0   0   0   0   0   0   0   0\n",
            "    0   0   0   0   0   0   0   0   0   0]\n",
            " [  0   0   0   0   0   0   0   0   0   0   0   0   0   0   0   0   0   0\n",
            "    0   0   0   0   0   0   0   0   0   0]\n",
            " [  0   0   0   0   0   0   0   0   0   0   0   0   0   0   0   0   0   0\n",
            "    0   0   0   0   0   0   0   0   0   0]]\n",
            "3\n"
          ],
          "name": "stdout"
        }
      ]
    },
    {
      "cell_type": "code",
      "metadata": {
        "id": "xaNh0kInI_V3",
        "colab_type": "code",
        "outputId": "24f82022-231e-4afe-d083-087139354742",
        "colab": {
          "base_uri": "https://localhost:8080/",
          "height": 265
        }
      },
      "source": [
        "plt.imshow(x_train[10],cmap = 'gray', interpolation = 'bicubic')\n",
        "plt.show()"
      ],
      "execution_count": 11,
      "outputs": [
        {
          "output_type": "display_data",
          "data": {
            "image/png": "[encoded data removed]",
            "text/plain": [
              "<Figure size 432x288 with 1 Axes>"
            ]
          },
          "metadata": {
            "tags": []
          }
        }
      ]
    },
    {
      "cell_type": "markdown",
      "metadata": {
        "id": "Y7_arS-dyi8N",
        "colab_type": "text"
      },
      "source": [
        "**Prepare the data**"
      ]
    },
    {
      "cell_type": "code",
      "metadata": {
        "id": "TSu3uGoGFCuw",
        "colab_type": "code",
        "colab": {}
      },
      "source": [
        "x_train_norm=x_train/255.0\n",
        "x_test_norm=x_test/255.0\n",
        "\n",
        "training_inputs = [np.reshape(x, (784, 1)) for x in x_train_norm]\n",
        "training_results = [vectorized_result(y) for y in y_train]\n",
        "training_data = list(zip(training_inputs, training_results))\n",
        "\n",
        "test_inputs = [np.reshape(x, (784, 1)) for x in x_test_norm]\n",
        "test_data = list(zip(test_inputs, y_test))"
      ],
      "execution_count": 0,
      "outputs": []
    },
    {
      "cell_type": "markdown",
      "metadata": {
        "id": "6cESD8_rys3r",
        "colab_type": "text"
      },
      "source": [
        "**Training**"
      ]
    },
    {
      "cell_type": "code",
      "metadata": {
        "id": "VkDqfATTMUP2",
        "colab_type": "code",
        "outputId": "337d3a32-cd11-42f3-9ffe-d9e12bcf085c",
        "colab": {
          "base_uri": "https://localhost:8080/",
          "height": 537
        }
      },
      "source": [
        "input=28*28\n",
        "hidden1=30\n",
        "#hidden2=15\n",
        "output=10\n",
        "net = Network([input, hidden1, output])\n",
        "\n",
        "epochs=30\n",
        "mini_batch_size=10\n",
        "learning_rate=3\n",
        "net.SGD(training_data, epochs, mini_batch_size, learning_rate, test_data=test_data)"
      ],
      "execution_count": 18,
      "outputs": [
        {
          "output_type": "stream",
          "text": [
            "Epoch 0: 9098 / 10000\n",
            "Epoch 1: 9244 / 10000\n",
            "Epoch 2: 9310 / 10000\n",
            "Epoch 3: 9353 / 10000\n",
            "Epoch 4: 9365 / 10000\n",
            "Epoch 5: 9456 / 10000\n",
            "Epoch 6: 9440 / 10000\n",
            "Epoch 7: 9451 / 10000\n",
            "Epoch 8: 9457 / 10000\n",
            "Epoch 9: 9460 / 10000\n",
            "Epoch 10: 9394 / 10000\n",
            "Epoch 11: 9442 / 10000\n",
            "Epoch 12: 9466 / 10000\n",
            "Epoch 13: 9469 / 10000\n",
            "Epoch 14: 9466 / 10000\n",
            "Epoch 15: 9485 / 10000\n",
            "Epoch 16: 9507 / 10000\n",
            "Epoch 17: 9484 / 10000\n",
            "Epoch 18: 9485 / 10000\n",
            "Epoch 19: 9506 / 10000\n",
            "Epoch 20: 9485 / 10000\n",
            "Epoch 21: 9472 / 10000\n",
            "Epoch 22: 9503 / 10000\n",
            "Epoch 23: 9501 / 10000\n",
            "Epoch 24: 9498 / 10000\n",
            "Epoch 25: 9474 / 10000\n",
            "Epoch 26: 9479 / 10000\n",
            "Epoch 27: 9490 / 10000\n",
            "Epoch 28: 9492 / 10000\n",
            "Epoch 29: 9493 / 10000\n"
          ],
          "name": "stdout"
        }
      ]
    },
    {
      "cell_type": "markdown",
      "metadata": {
        "id": "wLT2Fppfz-oz",
        "colab_type": "text"
      },
      "source": [
        "**Test**"
      ]
    },
    {
      "cell_type": "code",
      "metadata": {
        "id": "_IVlRXzIku_w",
        "colab_type": "code",
        "outputId": "bd0a891e-e078-46b7-d71e-788bb756bace",
        "colab": {
          "base_uri": "https://localhost:8080/",
          "height": 508
        }
      },
      "source": [
        "test_img=x_test[100]\n",
        "plt.imshow(test_img,cmap = 'gray', interpolation = 'bicubic')\n",
        "plt.show()\n",
        "test_img=np.reshape(test_img, (784, 1))\n",
        "test_result=net.feedforward(test_img)\n",
        "print (test_result)\n",
        "print(np.argmax(test_result))\n",
        "print(y_test[100])"
      ],
      "execution_count": 17,
      "outputs": [
        {
          "output_type": "display_data",
          "data": {
            "image/png": "[encoded data removed]",
            "text/plain": [
              "<Figure size 432x288 with 1 Axes>"
            ]
          },
          "metadata": {
            "tags": []
          }
        },
        {
          "output_type": "stream",
          "text": [
            "[[6.00215295e-05]\n",
            " [8.04520243e-09]\n",
            " [1.09167807e-03]\n",
            " [1.00781996e-08]\n",
            " [4.04028126e-04]\n",
            " [1.00349407e-13]\n",
            " [9.99575799e-01]\n",
            " [5.09149937e-09]\n",
            " [1.43061513e-04]\n",
            " [3.06031421e-04]]\n",
            "6\n",
            "6\n"
          ],
          "name": "stdout"
        },
        {
          "output_type": "stream",
          "text": [
            "/usr/local/lib/python3.6/dist-packages/ipykernel_launcher.py:3: RuntimeWarning: overflow encountered in exp\n",
            "  This is separate from the ipykernel package so we can avoid doing imports until\n"
          ],
          "name": "stderr"
        }
      ]
    },
    {
      "cell_type": "markdown",
      "metadata": {
        "id": "V7y4hHZ03MmF",
        "colab_type": "text"
      },
      "source": [
        "**Upload your own handwritten digits**"
      ]
    },
    {
      "cell_type": "code",
      "metadata": {
        "id": "u3zxEZ3SIU6T",
        "colab_type": "code",
        "outputId": "232b6232-b58d-43a3-d49c-bfafb3e58098",
        "colab": {
          "base_uri": "https://localhost:8080/",
          "height": 124
        }
      },
      "source": [
        "from google.colab import drive\n",
        "drive.mount('/content/drive/')"
      ],
      "execution_count": 19,
      "outputs": [
        {
          "output_type": "stream",
          "text": [
            "Go to this URL in a browser: https://accounts.google.com/o/oauth2/auth?client_id=947318989803-6bn6qk8qdgf4n4g3pfee6491hc0brc4i.apps.googleusercontent.com&redirect_uri=urn%3aietf%3awg%3aoauth%3a2.0%3aoob&response_type=code&scope=email%20https%3a%2f%2fwww.googleapis.com%2fauth%2fdocs.test%20https%3a%2f%2fwww.googleapis.com%2fauth%2fdrive%20https%3a%2f%2fwww.googleapis.com%2fauth%2fdrive.photos.readonly%20https%3a%2f%2fwww.googleapis.com%2fauth%2fpeopleapi.readonly\n",
            "\n",
            "Enter your authorization code:\n",
            "··········\n",
            "Mounted at /content/drive/\n"
          ],
          "name": "stdout"
        }
      ]
    },
    {
      "cell_type": "code",
      "metadata": {
        "id": "vlQ-LBpMKG5f",
        "colab_type": "code",
        "outputId": "4c13e50e-da1a-4a87-cbcc-7b16d4e99a20",
        "colab": {
          "base_uri": "https://localhost:8080/",
          "height": 87
        }
      },
      "source": [
        "!ls \"/content/drive/My Drive/openAI_gym\"\n",
        "!pwd\n"
      ],
      "execution_count": 20,
      "outputs": [
        {
          "output_type": "stream",
          "text": [
            "0.bmp  3.bmp  6.bmp  9.bmp\t   DigitRecog.ipynb  openAI_display.ipynb\n",
            "1.bmp  4.bmp  7.bmp  cartpole\t   frozenlake.ipynb\n",
            "2.bmp  5.bmp  8.bmp  cartPole_tpu  gameAI.ipynb\n",
            "/content\n"
          ],
          "name": "stdout"
        }
      ]
    },
    {
      "cell_type": "code",
      "metadata": {
        "id": "y5GOfBHX5Cjx",
        "colab_type": "code",
        "colab": {}
      },
      "source": [
        "my_img = cv2.imread('drive/My Drive/openAI_gym/5.bmp',0)"
      ],
      "execution_count": 0,
      "outputs": []
    },
    {
      "cell_type": "code",
      "metadata": {
        "id": "2hChZWUPQVn7",
        "colab_type": "code",
        "outputId": "79000919-924b-426b-e7fe-e1bd36a1e27e",
        "colab": {
          "base_uri": "https://localhost:8080/",
          "height": 265
        }
      },
      "source": [
        "plt.imshow(my_img,cmap = 'gray', interpolation = 'bicubic')\n",
        "plt.show()"
      ],
      "execution_count": 44,
      "outputs": [
        {
          "output_type": "display_data",
          "data": {
            "image/png": "[encoded data removed]",
            "text/plain": [
              "<Figure size 432x288 with 1 Axes>"
            ]
          },
          "metadata": {
            "tags": []
          }
        }
      ]
    },
    {
      "cell_type": "code",
      "metadata": {
        "id": "BzF0GqipQytI",
        "colab_type": "code",
        "outputId": "fb2b682e-7b33-4ead-d213-394292747cab",
        "colab": {
          "base_uri": "https://localhost:8080/",
          "height": 35
        }
      },
      "source": [
        "test_result=net.feedforward(np.reshape(my_img/255.0, (784, 1)))\n",
        "print(np.argmax(test_result))"
      ],
      "execution_count": 45,
      "outputs": [
        {
          "output_type": "stream",
          "text": [
            "5\n"
          ],
          "name": "stdout"
        }
      ]
    },
    {
      "cell_type": "code",
      "metadata": {
        "id": "R7x1SCdvaPbb",
        "colab_type": "code",
        "outputId": "4cce7625-8aa1-463a-afb8-0e466547affb",
        "colab": {
          "base_uri": "https://localhost:8080/",
          "height": 797
        }
      },
      "source": [
        "print (net.weights[0].shape)\n",
        "print (net.biases[0].shape)\n",
        "print (net.weights[0])\n",
        "print (net.biases[0])"
      ],
      "execution_count": 39,
      "outputs": [
        {
          "output_type": "stream",
          "text": [
            "(30, 784)\n",
            "(30, 1)\n",
            "[[-1.75276365  0.9550844  -0.10534645 ...  0.15904716  1.37865546\n",
            "  -0.7576167 ]\n",
            " [ 1.07477181 -0.07169738  0.49752336 ... -1.30315868 -1.75799926\n",
            "  -0.48572074]\n",
            " [ 0.22662221 -0.7956676   0.15630962 ...  0.8464122   0.25944406\n",
            "  -0.1576777 ]\n",
            " ...\n",
            " [-1.22426808 -0.11933691  0.42697515 ...  0.7842748   1.22278063\n",
            "   0.31220853]\n",
            " [ 0.46950869 -1.1076115   0.78198627 ...  0.51036074  1.09607922\n",
            "   0.11335892]\n",
            " [ 0.39773731  0.11224946  0.65257419 ... -0.49464479  0.13974661\n",
            "  -0.96160051]]\n",
            "[[ 2.09142109]\n",
            " [-1.62009373]\n",
            " [-6.90317108]\n",
            " [ 2.84630459]\n",
            " [-3.95976031]\n",
            " [ 2.33243156]\n",
            " [-2.61192835]\n",
            " [ 3.18659523]\n",
            " [-1.17897349]\n",
            " [-1.76793876]\n",
            " [-2.31781752]\n",
            " [-3.09126793]\n",
            " [-2.04132636]\n",
            " [-4.62262243]\n",
            " [-2.31946409]\n",
            " [-1.48731195]\n",
            " [ 2.27520009]\n",
            " [-1.99239283]\n",
            " [-2.09018709]\n",
            " [-2.13546064]\n",
            " [ 0.57839363]\n",
            " [-6.21098243]\n",
            " [ 1.01507125]\n",
            " [-3.09496792]\n",
            " [-1.32954938]\n",
            " [ 1.56683607]\n",
            " [-1.24792621]\n",
            " [-0.50202067]\n",
            " [ 5.9766647 ]\n",
            " [ 0.15925709]]\n"
          ],
          "name": "stdout"
        }
      ]
    }
  ]
}