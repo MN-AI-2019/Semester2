{
  "nbformat": 4,
  "nbformat_minor": 0,
  "metadata": {
    "colab": {
      "name": "cartpole",
      "provenance": [],
      "collapsed_sections": [],
      "include_colab_link": true
    },
    "kernelspec": {
      "name": "python3",
      "display_name": "Python 3"
    },
    "accelerator": "GPU"
  },
  "cells": [
    {
      "cell_type": "markdown",
      "metadata": {
        "id": "view-in-github",
        "colab_type": "text"
      },
      "source": [
        "<a href=\"https://colab.research.google.com/github/MN-AI-2019/Semester2/blob/master/cartpole.ipynb\" target=\"_parent\"><img src=\"https://colab.research.google.com/assets/colab-badge.svg\" alt=\"Open In Colab\"/></a>"
      ]
    },
    {
      "cell_type": "code",
      "metadata": {
        "id": "ohMjS0k6jKyl",
        "colab_type": "code",
        "colab": {}
      },
      "source": [
        ""
      ],
      "execution_count": 0,
      "outputs": []
    },
    {
      "cell_type": "markdown",
      "metadata": {
        "colab_type": "text",
        "id": "gNXGwuVgmXqN"
      },
      "source": [
        "#CartPole"
      ]
    },
    {
      "cell_type": "markdown",
      "metadata": {
        "id": "-rz6CoiXqnab",
        "colab_type": "text"
      },
      "source": [
        "A pole is attached by an un-actuated joint to a cart, which moves along a frictionless track. The system is controlled by applying a force of +1 or -1 to the cart. The pendulum starts upright, and the goal is to prevent it from falling over. A reward of +1 is provided for every timestep that the pole remains upright. The episode ends when the pole is more than 15 degrees from vertical, or the cart moves more than 2.4 units from the center."
      ]
    },
    {
      "cell_type": "markdown",
      "metadata": {
        "id": "wylrNbjPqplJ",
        "colab_type": "text"
      },
      "source": [
        "[CartPole](https://gym.openai.com/videos/2019-10-21--mqt8Qj1mwo/CartPole-v1/original.mp4)"
      ]
    },
    {
      "cell_type": "markdown",
      "metadata": {
        "id": "PmlbO_rOU55o",
        "colab_type": "text"
      },
      "source": [
        "**Check GPU information**"
      ]
    },
    {
      "cell_type": "code",
      "metadata": {
        "id": "693ijxtcmLph",
        "colab_type": "code",
        "outputId": "0c58e51a-c874-4f89-a746-aaf895161165",
        "colab": {
          "base_uri": "https://localhost:8080/",
          "height": 235
        }
      },
      "source": [
        "!ln -sf /opt/bin/nvidia-smi /usr/bin/nvidia-smi\n",
        "!pip install gputil\n",
        "!pip install psutil\n",
        "!pip install humanize\n",
        "\n",
        "import psutil\n",
        "import humanize\n",
        "import os\n",
        "import GPUtil as GPU\n",
        "GPUs = GPU.getGPUs()\n",
        "\n",
        "# XXX: only one GPU on Colab and isn’t guaranteed\n",
        "gpu = GPUs[0]\n",
        "def printm():\n",
        "  process = psutil.Process(os.getpid())\n",
        "  print(\"Gen RAM Free: \" + humanize.naturalsize( psutil.virtual_memory().available ), \" | Proc size: \" + humanize.naturalsize( process.memory_info().rss))\n",
        "  print(\"GPU RAM Free: {0:.0f}MB | Used: {1:.0f}MB | Util {2:3.0f}% | Total {3:.0f}MB\".format(gpu.memoryFree, gpu.memoryUsed, gpu.memoryUtil*100, gpu.memoryTotal))\n",
        "\n",
        "printm()"
      ],
      "execution_count": 0,
      "outputs": [
        {
          "output_type": "stream",
          "text": [
            "Collecting gputil\n",
            "  Downloading https://files.pythonhosted.org/packages/ed/0e/5c61eedde9f6c87713e89d794f01e378cfd9565847d4576fa627d758c554/GPUtil-1.4.0.tar.gz\n",
            "Building wheels for collected packages: gputil\n",
            "  Building wheel for gputil (setup.py) ... \u001b[?25l\u001b[?25hdone\n",
            "  Created wheel for gputil: filename=GPUtil-1.4.0-cp36-none-any.whl size=7410 sha256=3e707203205d1148050810c3d004e5d3d01e8616903068277d1f60b6692d186c\n",
            "  Stored in directory: /root/.cache/pip/wheels/3d/77/07/80562de4bb0786e5ea186911a2c831fdd0018bda69beab71fd\n",
            "Successfully built gputil\n",
            "Installing collected packages: gputil\n",
            "Successfully installed gputil-1.4.0\n",
            "Requirement already satisfied: psutil in /usr/local/lib/python3.6/dist-packages (5.4.8)\n",
            "Requirement already satisfied: humanize in /usr/local/lib/python3.6/dist-packages (0.5.1)\n",
            "Gen RAM Free: 12.8 GB  | Proc size: 156.4 MB\n",
            "GPU RAM Free: 15079MB | Used: 0MB | Util   0% | Total 15079MB\n"
          ],
          "name": "stdout"
        }
      ]
    },
    {
      "cell_type": "code",
      "metadata": {
        "id": "c4p48k_Fx7ZS",
        "colab_type": "code",
        "colab": {}
      },
      "source": [
        "!apt-get install -y xvfb python-opengl > /dev/null 2>&1\n",
        "!pip install gym pyvirtualdisplay > /dev/null 2>&1"
      ],
      "execution_count": 0,
      "outputs": []
    },
    {
      "cell_type": "code",
      "metadata": {
        "id": "0i9o_HT8mN2Y",
        "colab_type": "code",
        "colab": {}
      },
      "source": [
        "%matplotlib inline\n",
        "import gym\n",
        "import math\n",
        "import random\n",
        "import numpy as np\n",
        "import matplotlib\n",
        "import matplotlib.pyplot as plt\n",
        "from collections import namedtuple\n",
        "from itertools import count\n",
        "from PIL import Image\n",
        "import torch\n",
        "import torch.nn as nn\n",
        "import torch.optim as optim\n",
        "import torch.nn.functional as F\n",
        "import torchvision.transforms as T \n",
        "\n",
        "is_ipython = 'inline' in matplotlib.get_backend()\n",
        "if is_ipython: from IPython import display "
      ],
      "execution_count": 0,
      "outputs": []
    },
    {
      "cell_type": "code",
      "metadata": {
        "id": "jYVwv18v5iL3",
        "colab_type": "code",
        "outputId": "df1c951a-cb0c-4c1a-b2dc-0057155944b7",
        "colab": {
          "base_uri": "https://localhost:8080/",
          "height": 70
        }
      },
      "source": [
        "from pyvirtualdisplay import Display\n",
        "virDisplay = Display(visible=0, size=(400, 300))\n",
        "virDisplay.start()"
      ],
      "execution_count": 0,
      "outputs": [
        {
          "output_type": "stream",
          "text": [
            "xdpyinfo was not found, X start can not be checked! Please install xdpyinfo!\n"
          ],
          "name": "stderr"
        },
        {
          "output_type": "execute_result",
          "data": {
            "text/plain": [
              "<Display cmd_param=['Xvfb', '-br', '-nolisten', 'tcp', '-screen', '0', '400x300x24', ':1001'] cmd=['Xvfb', '-br', '-nolisten', 'tcp', '-screen', '0', '400x300x24', ':1001'] oserror=None return_code=None stdout=\"None\" stderr=\"None\" timeout_happened=False>"
            ]
          },
          "metadata": {
            "tags": []
          },
          "execution_count": 4
        }
      ]
    },
    {
      "cell_type": "markdown",
      "metadata": {
        "id": "XvaOcT7Fn0DT",
        "colab_type": "text"
      },
      "source": [
        "**Without training**"
      ]
    },
    {
      "cell_type": "code",
      "metadata": {
        "id": "Pfq3_zoo543y",
        "colab_type": "code",
        "outputId": "97f41df8-e21d-4d06-90a7-46220e31af29",
        "colab": {
          "base_uri": "https://localhost:8080/",
          "height": 269
        }
      },
      "source": [
        "env = gym.make(\"CartPole-v1\")\n",
        "env.reset()\n",
        "prev_screen = env.render(mode='rgb_array')\n",
        "img=plt.imshow(prev_screen)\n",
        "\n",
        "for i in range(50):\n",
        "  action = env.action_space.sample()\n",
        "  obs, reward, done, info = env.step(action)\n",
        "  screen = env.render(mode='rgb_array')\n",
        "  img.set_data(screen)\n",
        "  #plt.imshow(screen)\n",
        "  display.clear_output(wait=True)\n",
        "  display.display(plt.gcf())\n",
        "\n",
        "display.clear_output(wait=True)\n",
        "env.close()"
      ],
      "execution_count": 0,
      "outputs": [
        {
          "output_type": "display_data",
          "data": {
            "image/png": "[encoded data removed]",
            "text/plain": [
              "<Figure size 432x288 with 1 Axes>"
            ]
          },
          "metadata": {
            "tags": []
          }
        }
      ]
    },
    {
      "cell_type": "markdown",
      "metadata": {
        "id": "aQMv5udpjULs",
        "colab_type": "text"
      },
      "source": [
        "**Deep Q-learning**"
      ]
    },
    {
      "cell_type": "code",
      "metadata": {
        "id": "9TlwsIv_9njR",
        "colab_type": "code",
        "colab": {}
      },
      "source": [
        "class DQN(nn.Module):\n",
        "    def __init__(self, img_height, img_width):\n",
        "        super().__init__()\n",
        "            \n",
        "        self.fc1 = nn.Linear(in_features=img_height*img_width*3, out_features=24)   \n",
        "        self.fc2 = nn.Linear(in_features=24, out_features=32)\n",
        "        self.out = nn.Linear(in_features=32, out_features=2)\n",
        "    \n",
        "    def forward(self, t):\n",
        "        t = t.flatten(start_dim=1)\n",
        "        t = F.relu(self.fc1(t))\n",
        "        t = F.relu(self.fc2(t))\n",
        "        t = self.out(t)\n",
        "        return t"
      ],
      "execution_count": 0,
      "outputs": []
    },
    {
      "cell_type": "markdown",
      "metadata": {
        "id": "Z5VPjN160T2W",
        "colab_type": "text"
      },
      "source": [
        "[Neur Network](https://qph.fs.quoracdn.net/main-qimg-fde7bfdf92fe6a004c784b7c8b5befe8)"
      ]
    },
    {
      "cell_type": "code",
      "metadata": {
        "id": "QDrjk7WZ9ySz",
        "colab_type": "code",
        "colab": {}
      },
      "source": [
        "Experience = namedtuple(\n",
        "    'Experience',\n",
        "    ('state', 'action', 'next_state', 'reward')\n",
        ")"
      ],
      "execution_count": 0,
      "outputs": []
    },
    {
      "cell_type": "code",
      "metadata": {
        "id": "W4yXdbKV96iu",
        "colab_type": "code",
        "colab": {}
      },
      "source": [
        "class ReplayMemory():\n",
        "    def __init__(self, capacity):\n",
        "        self.capacity = capacity\n",
        "        self.memory = []\n",
        "        self.push_count = 0\n",
        "    \n",
        "    def push(self, experience):\n",
        "        if len(self.memory) < self.capacity:\n",
        "            self.memory.append(experience)\n",
        "        else:\n",
        "            self.memory[self.push_count % self.capacity] = experience\n",
        "        self.push_count += 1\n",
        "    \n",
        "    def sample(self, batch_size):\n",
        "        return random.sample(self.memory, batch_size)\n",
        "    \n",
        "    def can_provide_sample(self, batch_size):\n",
        "        return len(self.memory) >= batch_size"
      ],
      "execution_count": 0,
      "outputs": []
    },
    {
      "cell_type": "code",
      "metadata": {
        "id": "gkRB4i1J9__e",
        "colab_type": "code",
        "colab": {}
      },
      "source": [
        "class EpsilonGreedyStrategy():\n",
        "    def __init__(self, start, end, decay):\n",
        "        self.start = start\n",
        "        self.end = end\n",
        "        self.decay = decay\n",
        "    \n",
        "    def get_exploration_rate(self, current_step):\n",
        "        return self.end + (self.start - self.end) * \\\n",
        "        math.exp(-1. * current_step * self.decay)"
      ],
      "execution_count": 0,
      "outputs": []
    },
    {
      "cell_type": "code",
      "metadata": {
        "id": "HL68V2XZ-Ey2",
        "colab_type": "code",
        "colab": {}
      },
      "source": [
        "class Agent():\n",
        "    def __init__(self, strategy, num_actions,device):\n",
        "        self.current_step = 0\n",
        "        self.strategy = strategy\n",
        "        self.num_actions = num_actions\n",
        "        self.device = device\n",
        "    \n",
        "    def select_action(self, state, policy_net):\n",
        "        rate = self.strategy.get_exploration_rate(self.current_step)\n",
        "        self.current_step += 1\n",
        "\n",
        "        if rate > random.random():\n",
        "            action = random.randrange(self.num_actions)\n",
        "            return torch.tensor([action]).to(self.device) # explore      \n",
        "        else:\n",
        "            with torch.no_grad():\n",
        "                return policy_net(state).argmax(dim=1).to(self.device) # exploit\n",
        "            "
      ],
      "execution_count": 0,
      "outputs": []
    },
    {
      "cell_type": "code",
      "metadata": {
        "id": "dX_wr8Ul-Psz",
        "colab_type": "code",
        "colab": {}
      },
      "source": [
        "class CartPoleEnvManager():\n",
        "    def __init__(self, device):\n",
        "        self.device = device\n",
        "        self.env = gym.make('CartPole-v1').unwrapped\n",
        "        self.env.reset()\n",
        "        self.current_screen = None\n",
        "        self.done = False    \n",
        "        \n",
        "    def reset(self):\n",
        "        self.env.reset()\n",
        "        self.current_screen = None\n",
        "        \n",
        "    def close(self):\n",
        "        self.env.close()\n",
        "    \n",
        "    def render(self, mode='human'):\n",
        "        return self.env.render(mode)\n",
        "    \n",
        "    def num_actions_available(self):\n",
        "        return self.env.action_space.n\n",
        "    \n",
        "    def take_action(self, action):        \n",
        "        _, reward, self.done, _ = self.env.step(action.item())\n",
        "        return torch.tensor([reward], device=self.device)\n",
        "   \n",
        "    def just_starting(self):\n",
        "        return self.current_screen is None\n",
        "    \n",
        "    def get_state(self):\n",
        "        if self.just_starting() or self.done:\n",
        "            self.current_screen = self.get_processed_screen()\n",
        "            black_screen = torch.zeros_like(self.current_screen)\n",
        "            return black_screen\n",
        "        else:\n",
        "            s1 = self.current_screen\n",
        "            s2 = self.get_processed_screen()\n",
        "            self.current_screen = s2\n",
        "            return s2 - s1\n",
        "    def crop_screen(self, screen):\n",
        "      screen_height = screen.shape[1]\n",
        "    \n",
        "      # Strip off top and bottom\n",
        "      top = int(screen_height * 0.4)\n",
        "      bottom = int(screen_height * 0.8)\n",
        "      screen = screen[:, top:bottom, :]\n",
        "      return screen\n",
        "\n",
        "    def get_screen_height(self):\n",
        "        screen = self.get_processed_screen()\n",
        "        return screen.shape[2]\n",
        "    \n",
        "    def get_screen_width(self):\n",
        "        screen = self.get_processed_screen()\n",
        "        return screen.shape[3]\n",
        "    \n",
        "    def get_processed_screen(self):\n",
        "        screen = self.render('rgb_array').transpose((2, 0, 1)) # PyTorch expects CHW\n",
        "        screen = self.crop_screen(screen)\n",
        "        return self.transform_screen_data(screen)\n",
        "    \n",
        "    def transform_screen_data(self, screen):       \n",
        "        # Convert to float, rescale, convert to tensor\n",
        "        screen = np.ascontiguousarray(screen, dtype=np.float32) / 255\n",
        "        screen = torch.from_numpy(screen)\n",
        "    \n",
        "        # Use torchvision package to compose image transforms\n",
        "        resize = T.Compose([\n",
        "                T.ToPILImage()\n",
        "                ,T.Resize((40,90))\n",
        "                ,T.ToTensor()\n",
        "                ])\n",
        "    \n",
        "        return resize(screen).unsqueeze(0).to(self.device) # add a batch dimension (BCHW)\n"
      ],
      "execution_count": 0,
      "outputs": []
    },
    {
      "cell_type": "code",
      "metadata": {
        "id": "ipfeX0mq-YAL",
        "colab_type": "code",
        "colab": {}
      },
      "source": [
        "class QValues():\n",
        "    device = torch.device(\"cuda\" if torch.cuda.is_available() else \"cpu\")\n",
        "    @staticmethod\n",
        "    def get_current(policy_net, states, actions):\n",
        "        return policy_net(states).gather(dim=1, index=actions.unsqueeze(-1))\n",
        "    \n",
        "    @staticmethod        \n",
        "    def get_next(target_net, next_states):                \n",
        "        final_state_locations = next_states.flatten(start_dim=1) \\\n",
        "            .max(dim=1)[0].eq(0).type(torch.bool)\n",
        "        non_final_state_locations = (final_state_locations == False)\n",
        "        non_final_states = next_states[non_final_state_locations]\n",
        "        batch_size = next_states.shape[0]\n",
        "        values = torch.zeros(batch_size).to(QValues.device)\n",
        "        values[non_final_state_locations] = target_net(non_final_states).max(dim=1)[0].detach()\n",
        "        return values"
      ],
      "execution_count": 0,
      "outputs": []
    },
    {
      "cell_type": "code",
      "metadata": {
        "id": "fy_Y9d3_-iub",
        "colab_type": "code",
        "colab": {}
      },
      "source": [
        "def get_moving_average(period, values):\n",
        "    values = torch.tensor(values, dtype=torch.float)\n",
        "    if len(values) >= period:\n",
        "        moving_avg = values.unfold(dimension=0, size=period, step=1) \\\n",
        "            .mean(dim=1).flatten(start_dim=0)\n",
        "        moving_avg = torch.cat((torch.zeros(period-1), moving_avg))\n",
        "        return moving_avg.numpy()\n",
        "    else:\n",
        "        moving_avg = torch.zeros(len(values))\n",
        "        return moving_avg.numpy()\n",
        "    "
      ],
      "execution_count": 0,
      "outputs": []
    },
    {
      "cell_type": "code",
      "metadata": {
        "id": "y7J1hIus-eO9",
        "colab_type": "code",
        "colab": {}
      },
      "source": [
        "def plot(values, moving_avg_period):\n",
        "    plt.figure(2)    \n",
        "    plt.clf()        \n",
        "    plt.title('Training...')\n",
        "    plt.xlabel('Episode')\n",
        "    plt.ylabel('Duration')\n",
        "    plt.plot(values)\n",
        "\n",
        "    moving_avg = get_moving_average(moving_avg_period, values)\n",
        "    plt.plot(moving_avg)    \n",
        "    plt.pause(0.001)\n",
        "    print(\"Episode\", len(values), \"\\n\", \\\n",
        "        moving_avg_period, \"episode moving avg:\", moving_avg[-1])\n",
        "    if is_ipython: \n",
        "      display.clear_output(wait=True)      \n",
        "      "
      ],
      "execution_count": 0,
      "outputs": []
    },
    {
      "cell_type": "code",
      "metadata": {
        "id": "7PN0Z5Uz-qA2",
        "colab_type": "code",
        "colab": {}
      },
      "source": [
        "def extract_tensors(experiences):\n",
        "    # Convert batch of Experiences to Experience of batches\n",
        "    batch = Experience(*zip(*experiences))\n",
        "\n",
        "    t1 = torch.cat(batch.state)\n",
        "    t2 = torch.cat(batch.action)\n",
        "    t3 = torch.cat(batch.reward)\n",
        "    t4 = torch.cat(batch.next_state)\n",
        "\n",
        "    return (t1,t2,t3,t4)"
      ],
      "execution_count": 0,
      "outputs": []
    },
    {
      "cell_type": "markdown",
      "metadata": {
        "id": "h2GYnf0vpVL8",
        "colab_type": "text"
      },
      "source": [
        "**Training**"
      ]
    },
    {
      "cell_type": "code",
      "metadata": {
        "id": "fxSl0KgM4TyR",
        "colab_type": "code",
        "outputId": "e0bd1edb-f1fa-4001-8f20-04a69b90ef3f",
        "colab": {
          "base_uri": "https://localhost:8080/",
          "height": 330
        }
      },
      "source": [
        "batch_size = 256\n",
        "gamma = 0.999\n",
        "eps_start = 1\n",
        "eps_end = 0.01\n",
        "eps_decay = 0.001\n",
        "target_update = 10\n",
        "memory_size = 100000\n",
        "lr = 0.001\n",
        "num_episodes = 500\n",
        "\n",
        "device = torch.device(\"cuda\" if torch.cuda.is_available() else \"cpu\")\n",
        "em = CartPoleEnvManager(device)\n",
        "strategy = EpsilonGreedyStrategy(eps_start, eps_end, eps_decay)\n",
        "n=em.num_actions_available()\n",
        "agent = Agent(strategy,n,device)\n",
        "memory = ReplayMemory(memory_size)\n",
        "\n",
        "policy_net = DQN(em.get_screen_height(), em.get_screen_width()).to(device)\n",
        "target_net = DQN(em.get_screen_height(), em.get_screen_width()).to(device)\n",
        "\n",
        "target_net.load_state_dict(policy_net.state_dict())\n",
        "target_net.eval()\n",
        "\n",
        "optimizer = optim.Adam(params=policy_net.parameters(), lr=lr)\n",
        "\n",
        "episode_durations = []\n",
        "\n",
        "for episode in range(num_episodes):\n",
        "    em.reset()\n",
        "    state = em.get_state()\n",
        "    for timestep in count():\n",
        "        action = agent.select_action(state, policy_net)\n",
        "        reward = em.take_action(action)\n",
        "        next_state = em.get_state()\n",
        "        memory.push(Experience(state, action, next_state, reward))\n",
        "        state = next_state\n",
        "            \n",
        "        if memory.can_provide_sample(batch_size):\n",
        "            experiences = memory.sample(batch_size)\n",
        "            states, actions, rewards, next_states = extract_tensors(experiences)\n",
        "    \n",
        "            current_q_values = QValues.get_current(policy_net, states, actions)\n",
        "            next_q_values = QValues.get_next(target_net, next_states)\n",
        "            target_q_values = (next_q_values * gamma) + rewards\n",
        "\n",
        "            loss = F.mse_loss(current_q_values, target_q_values.unsqueeze(1))\n",
        "            optimizer.zero_grad()\n",
        "            loss.backward()\n",
        "            optimizer.step()\n",
        "    \n",
        "        if em.done:\n",
        "            episode_durations.append(timestep)            \n",
        "            plot(episode_durations, 100)            \n",
        "            break\n",
        "    \n",
        "    if episode % target_update == 0:\n",
        "        target_net.load_state_dict(policy_net.state_dict())\n",
        "        \n",
        "em.close()"
      ],
      "execution_count": 0,
      "outputs": [
        {
          "output_type": "display_data",
          "data": {
            "image/png": "[encoded data removed]",
            "text/plain": [
              "<Figure size 432x288 with 1 Axes>"
            ]
          },
          "metadata": {
            "tags": []
          }
        },
        {
          "output_type": "stream",
          "text": [
            "Episode 500 \n",
            " 100 episode moving avg: 81.32\n"
          ],
          "name": "stdout"
        }
      ]
    },
    {
      "cell_type": "markdown",
      "metadata": {
        "id": "xmO6ZQdalmBM",
        "colab_type": "text"
      },
      "source": [
        "**Play**"
      ]
    },
    {
      "cell_type": "code",
      "metadata": {
        "id": "o1DagZFYlqMH",
        "colab_type": "code",
        "outputId": "6c2a2dcc-d3a3-46ce-f8ce-c3079ec52805",
        "colab": {
          "base_uri": "https://localhost:8080/",
          "height": 269
        }
      },
      "source": [
        "em = CartPoleEnvManager(device)\n",
        "prev_screen = em.render(mode='rgb_array')\n",
        "plt.imshow(prev_screen)\n",
        "\n",
        "state = em.get_state()\n",
        "for i in range(50):  \n",
        "  action = agent.select_action(state, policy_net)\n",
        "  reward = em.take_action(action)\n",
        "  next_state = em.get_state()\n",
        "  screen = em.render(mode='rgb_array')\n",
        "  state=next_state\n",
        "  plt.imshow(screen)\n",
        "  display.clear_output(wait=True)\n",
        "  display.display(plt.gcf())\n",
        "\n",
        "display.clear_output(wait=True)\n",
        "em.close()\n",
        "\n"
      ],
      "execution_count": 0,
      "outputs": [
        {
          "output_type": "display_data",
          "data": {
            "image/png": "[encoded data removed]",
            "text/plain": [
              "<Figure size 432x288 with 1 Axes>"
            ]
          },
          "metadata": {
            "tags": []
          }
        }
      ]
    }
  ]
}